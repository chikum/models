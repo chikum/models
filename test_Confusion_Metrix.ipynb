{
  "nbformat": 4,
  "nbformat_minor": 0,
  "metadata": {
    "colab": {
      "name": "test-Confusion Metrix.ipynb",
      "provenance": [],
      "authorship_tag": "ABX9TyPMWggtKTWuwnlleA4lJEg3",
      "include_colab_link": true
    },
    "kernelspec": {
      "name": "python3",
      "display_name": "Python 3"
    },
    "language_info": {
      "name": "python"
    }
  },
  "cells": [
    {
      "cell_type": "markdown",
      "metadata": {
        "id": "view-in-github",
        "colab_type": "text"
      },
      "source": [
        "<a href=\"https://colab.research.google.com/github/chikum/models/blob/master/test_Confusion_Metrix.ipynb\" target=\"_parent\"><img src=\"https://colab.research.google.com/assets/colab-badge.svg\" alt=\"Open In Colab\"/></a>"
      ]
    },
    {
      "cell_type": "code",
      "metadata": {
        "id": "bXo6FrmvyIhH"
      },
      "source": [
        "# multilayer perceptron model for the two circles problem\n",
        "from keras.models import Sequential\n",
        "from keras.layers import Dense\n",
        "from matplotlib import pyplot\n",
        "\n",
        "# demonstration of calculating metrics for a neural network model using sklearn\n",
        "from sklearn.datasets import make_circles\n",
        "from sklearn.metrics import accuracy_score\n",
        "from sklearn.metrics import precision_score\n",
        "from sklearn.metrics import recall_score\n",
        "from sklearn.metrics import f1_score\n",
        "from sklearn.metrics import cohen_kappa_score\n",
        "from sklearn.metrics import roc_auc_score\n",
        "from sklearn.metrics import confusion_matrix\n",
        "from keras.models import Sequential\n",
        "from keras.layers import Dense"
      ],
      "execution_count": null,
      "outputs": []
    },
    {
      "cell_type": "code",
      "metadata": {
        "id": "fo60R1vSyPp-"
      },
      "source": [
        "# generate and prepare the dataset\n",
        "def get_data():\n",
        "\t# generate dataset\n",
        "\tX, y = make_circles(n_samples=1000, noise=0.1, random_state=1)\n",
        "\t# split into train and test\n",
        "\tn_test = 500\n",
        "\ttrainX, testX = X[:n_test, :], X[n_test:, :]\n",
        "\ttrainy, testy = y[:n_test], y[n_test:]\n",
        "\treturn trainX, trainy, testX, testy"
      ],
      "execution_count": null,
      "outputs": []
    },
    {
      "cell_type": "code",
      "metadata": {
        "id": "BHiBpvByyYsT"
      },
      "source": [
        "def get_model(trainX, trainy):\n",
        "\t# define model\n",
        "\tmodel = Sequential()\n",
        "\tmodel.add(Dense(100, input_dim=2, activation='relu'))\n",
        "\tmodel.add(Dense(1, activation='sigmoid'))\n",
        "\t# compile model\n",
        "\tmodel.compile(loss='binary_crossentropy', optimizer='adam', metrics=['accuracy'])\n",
        "\t# fit model\n",
        "\tmodel.fit(trainX, trainy, epochs=300, verbose=0)\n",
        "\treturn model"
      ],
      "execution_count": null,
      "outputs": []
    },
    {
      "cell_type": "code",
      "metadata": {
        "colab": {
          "base_uri": "https://localhost:8080/"
        },
        "id": "4DW71BaiyfWc",
        "outputId": "3ca051d2-4edd-4a7d-8c46-f3c45abcb8f8"
      },
      "source": [
        "# generate data\n",
        "trainX, trainy, testX, testy = get_data()\n",
        "# fit model\n",
        "model = get_model(trainX, trainy)\n",
        "model.summary()"
      ],
      "execution_count": null,
      "outputs": [
        {
          "output_type": "stream",
          "text": [
            "Model: \"sequential_9\"\n",
            "_________________________________________________________________\n",
            "Layer (type)                 Output Shape              Param #   \n",
            "=================================================================\n",
            "dense_18 (Dense)             (None, 100)               300       \n",
            "_________________________________________________________________\n",
            "dense_19 (Dense)             (None, 1)                 101       \n",
            "=================================================================\n",
            "Total params: 401\n",
            "Trainable params: 401\n",
            "Non-trainable params: 0\n",
            "_________________________________________________________________\n"
          ],
          "name": "stdout"
        }
      ]
    },
    {
      "cell_type": "code",
      "metadata": {
        "colab": {
          "base_uri": "https://localhost:8080/"
        },
        "id": "24Urw_l6yfka",
        "outputId": "66762a0b-b218-4578-bfec-3c4fc76bceb1"
      },
      "source": [
        "# predict probabilities for test set\n",
        "yhat_probs = model.predict(testX, verbose=0)\n",
        "# predict crisp classes for test set\n",
        "yhat_classes = model.predict_classes(testX, verbose=0)"
      ],
      "execution_count": null,
      "outputs": [
        {
          "output_type": "stream",
          "text": [
            "/usr/local/lib/python3.7/dist-packages/tensorflow/python/keras/engine/sequential.py:450: UserWarning: `model.predict_classes()` is deprecated and will be removed after 2021-01-01. Please use instead:* `np.argmax(model.predict(x), axis=-1)`,   if your model does multi-class classification   (e.g. if it uses a `softmax` last-layer activation).* `(model.predict(x) > 0.5).astype(\"int32\")`,   if your model does binary classification   (e.g. if it uses a `sigmoid` last-layer activation).\n",
            "  warnings.warn('`model.predict_classes()` is deprecated and '\n"
          ],
          "name": "stderr"
        }
      ]
    },
    {
      "cell_type": "code",
      "metadata": {
        "colab": {
          "base_uri": "https://localhost:8080/"
        },
        "id": "sjoywXgJ0W42",
        "outputId": "82237019-48fa-46f8-fc05-eaf258ad34c6"
      },
      "source": [
        "print(yhat_probs.shape)\n",
        "print(yhat_classes.shape)\n",
        "\n",
        "print(yhat_probs[:10])\n",
        "print(yhat_classes[:10])\n"
      ],
      "execution_count": null,
      "outputs": [
        {
          "output_type": "stream",
          "text": [
            "(500, 1)\n",
            "(500, 1)\n",
            "[[0.697662  ]\n",
            " [0.08872223]\n",
            " [0.38243788]\n",
            " [0.3809533 ]\n",
            " [0.50406647]\n",
            " [0.41641015]\n",
            " [0.2721169 ]\n",
            " [0.86081946]\n",
            " [0.58031696]\n",
            " [0.7709528 ]]\n",
            "[[1]\n",
            " [0]\n",
            " [0]\n",
            " [0]\n",
            " [1]\n",
            " [0]\n",
            " [0]\n",
            " [1]\n",
            " [1]\n",
            " [1]]\n"
          ],
          "name": "stdout"
        }
      ]
    },
    {
      "cell_type": "code",
      "metadata": {
        "colab": {
          "base_uri": "https://localhost:8080/"
        },
        "id": "xl7V6ZNQyxvr",
        "outputId": "d1f2666f-4305-430e-871b-bd93c3e0b4a1"
      },
      "source": [
        "# reduce to 1d array\n",
        "yhat_probs = yhat_probs[:, 0]\n",
        "yhat_classes = yhat_classes[:, 0]\n",
        "\n",
        "print(yhat_probs.shape)\n",
        "print(yhat_classes.shape)\n",
        "\n",
        "\n",
        "print(yhat_probs[:10])\n",
        "print(yhat_classes[:10])\n",
        "#print(testy[:10])"
      ],
      "execution_count": null,
      "outputs": [
        {
          "output_type": "stream",
          "text": [
            "(500,)\n",
            "(500,)\n",
            "[0.697662   0.08872223 0.38243788 0.3809533  0.50406647 0.41641015\n",
            " 0.2721169  0.86081946 0.58031696 0.7709528 ]\n",
            "[1 0 0 0 1 0 0 1 1 1]\n"
          ],
          "name": "stdout"
        }
      ]
    },
    {
      "cell_type": "code",
      "metadata": {
        "colab": {
          "base_uri": "https://localhost:8080/"
        },
        "id": "ZCKRS40e3grX",
        "outputId": "5a50b5c2-77dd-4c75-c7e1-6d8c639020e6"
      },
      "source": [
        "print(testy.shape)\n",
        "print(testy[:10])"
      ],
      "execution_count": null,
      "outputs": [
        {
          "output_type": "stream",
          "text": [
            "(500,)\n",
            "[1 0 0 0 0 0 0 1 1 0]\n"
          ],
          "name": "stdout"
        }
      ]
    },
    {
      "cell_type": "code",
      "metadata": {
        "colab": {
          "base_uri": "https://localhost:8080/"
        },
        "id": "s_K6q7NCy0_Z",
        "outputId": "b436b3a5-b792-4ce1-9c7c-a198a342d107"
      },
      "source": [
        "# accuracy: (tp + tn) / (p + n)\n",
        "accuracy = accuracy_score(testy, yhat_classes)\n",
        "print('Accuracy: %f' % accuracy)\n",
        "# precision tp / (tp + fp)\n",
        "precision = precision_score(testy, yhat_classes)\n",
        "print('Precision: %f' % precision)\n",
        "# recall: tp / (tp + fn)\n",
        "recall = recall_score(testy, yhat_classes)\n",
        "print('Recall: %f' % recall)\n",
        "# f1: 2 tp / (2 tp + fp + fn)\n",
        "f1 = f1_score(testy, yhat_classes)\n",
        "print('F1 score: %f' % f1)"
      ],
      "execution_count": null,
      "outputs": [
        {
          "output_type": "stream",
          "text": [
            "Accuracy: 0.846000\n",
            "Precision: 0.843137\n",
            "Recall: 0.853175\n",
            "F1 score: 0.848126\n"
          ],
          "name": "stdout"
        }
      ]
    },
    {
      "cell_type": "code",
      "metadata": {
        "colab": {
          "base_uri": "https://localhost:8080/"
        },
        "id": "BgHKbBgVzRwb",
        "outputId": "333230d4-b9d6-42b8-b435-79bc0e05e8b1"
      },
      "source": [
        "# kappa\n",
        "kappa = cohen_kappa_score(testy, yhat_classes)\n",
        "print('Cohens kappa: %f' % kappa)\n",
        "# ROC AUC\n",
        "auc = roc_auc_score(testy, yhat_probs)\n",
        "print('ROC AUC: %f' % auc)\n",
        "# confusion matrix\n",
        "print(\"Confusion Matrix\")\n",
        "matrix = confusion_matrix(testy, yhat_classes)\n",
        "print(matrix)"
      ],
      "execution_count": null,
      "outputs": [
        {
          "output_type": "stream",
          "text": [
            "Cohens kappa: 0.691951\n",
            "ROC AUC: 0.924987\n",
            "Confusion Matrix\n",
            "[[208  40]\n",
            " [ 37 215]]\n"
          ],
          "name": "stdout"
        }
      ]
    }
  ]
}